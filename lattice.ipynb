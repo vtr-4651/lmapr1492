{
 "cells": [
  {
   "cell_type": "code",
   "execution_count": 2,
   "id": "e8e205da",
   "metadata": {},
   "outputs": [],
   "source": [
    "from pymatgen.ext.matproj import MPRester\n",
    "from pymatgen.symmetry.analyzer import SpacegroupAnalyzer\n",
    "from pprint import pprint\n",
    "\n",
    "with MPRester(\"KwnCeSBHTUbZ9VP0\") as m:\n",
    "    # structure de mon matériaux\n",
    "    structure = m.get_structure_by_material_id(\"mp-30459\")"
   ]
  },
  {
   "cell_type": "code",
   "execution_count": 3,
   "id": "b8077bfa",
   "metadata": {},
   "outputs": [
    {
     "name": "stdout",
     "output_type": "stream",
     "text": [
      "0.000000 3.127944 3.127944\n",
      "3.127944 0.000000 3.127944\n",
      "3.127944 3.127944 0.000000\n"
     ]
    }
   ],
   "source": [
    "s = SpacegroupAnalyzer(structure)\n",
    "a = structure.lattice\n",
    "print(\"Les vecteurs de base du réseau direct sont \\n\", a)"
   ]
  },
  {
   "cell_type": "code",
   "execution_count": 4,
   "id": "5279507a",
   "metadata": {},
   "outputs": [
    {
     "name": "stdout",
     "output_type": "stream",
     "text": [
      "-1.004363 1.004363 1.004363\n",
      "1.004363 -1.004363 1.004363\n",
      "1.004363 1.004363 -1.004363\n"
     ]
    }
   ],
   "source": [
    "b = structure.lattice.reciprocal_lattice\n",
    "print(\"Les vecteurs de base du réseau réciproque sont \\n\", b)"
   ]
  },
  {
   "cell_type": "code",
   "execution_count": 5,
   "id": "2e4052fe",
   "metadata": {},
   "outputs": [
    {
     "data": {
      "text/plain": [
       "'cubic'"
      ]
     },
     "execution_count": 5,
     "metadata": {},
     "output_type": "execute_result"
    }
   ],
   "source": [
    "c = s.get_crystal_system()\n",
    "print(\"système cristallin:\", c)"
   ]
  },
  {
   "cell_type": "code",
   "execution_count": 6,
   "id": "6c5dde6e",
   "metadata": {},
   "outputs": [
    {
     "data": {
      "text/plain": [
       "'-43m'"
      ]
     },
     "execution_count": 6,
     "metadata": {},
     "output_type": "execute_result"
    }
   ],
   "source": [
    "d = s.get_point_group_symbol()\n",
    "print(\"groupe ponctuel:\", d)"
   ]
  },
  {
   "cell_type": "code",
   "execution_count": 7,
   "id": "b6219d5f",
   "metadata": {},
   "outputs": [
    {
     "data": {
      "text/plain": [
       "'cubic'"
      ]
     },
     "execution_count": 7,
     "metadata": {},
     "output_type": "execute_result"
    }
   ],
   "source": [
    "e = s.get_lattice_type()\n",
    "print(\"type de maille:\", e)"
   ]
  }
 ],
 "metadata": {
  "kernelspec": {
   "display_name": "Python 3",
   "language": "python",
   "name": "python3"
  },
  "language_info": {
   "codemirror_mode": {
    "name": "ipython",
    "version": 3
   },
   "file_extension": ".py",
   "mimetype": "text/x-python",
   "name": "python",
   "nbconvert_exporter": "python",
   "pygments_lexer": "ipython3",
   "version": "3.6.8"
  },
  "widgets": {
   "application/vnd.jupyter.widget-state+json": {
    "state": {},
    "version_major": 2,
    "version_minor": 0
   }
  }
 },
 "nbformat": 4,
 "nbformat_minor": 5
}
