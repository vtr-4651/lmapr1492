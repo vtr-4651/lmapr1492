{
 "cells": [
  {
   "cell_type": "code",
   "execution_count": 6,
   "id": "bd0ae29f",
   "metadata": {},
   "outputs": [],
   "source": [
    "from pymatgen import Structure\n",
    "from pymatgen.symmetry.analyzer import SpacegroupAnalyzer\n",
    "from pymatgen.symmetry.analyzer import SpacegroupOperations\n",
    "from pymatgen.core.operations import SymmOp\n",
    "from pymatgen.ext.matproj import MPRester\n",
    "from jupyter_jsmol.pymatgen import quick_view\n",
    "from pymatgen.io.cif import CifWriter"
   ]
  },
  {
   "cell_type": "code",
   "execution_count": 7,
   "id": "e14128ee",
   "metadata": {},
   "outputs": [],
   "source": [
    "with MPRester(\"2HJyrqCBxbcTKw7d\") as m:\n",
    "    structure = m.get_structure_by_material_id(\"mp-30459\")\n",
    "\n",
    "    myCif = CifWriter(structure)"
   ]
  },
  {
   "cell_type": "code",
   "execution_count": 10,
   "id": "df0930dc",
   "metadata": {},
   "outputs": [
    {
     "name": "stdout",
     "output_type": "stream",
     "text": [
      "Cette symmétrie est un plan miroir d'axe z. La matrice de l'opération de symétrie associée est donnée par :\n",
      "\n",
      "[[-1.  0.  0.]\n",
      " [ 0. -1.  0.]\n",
      " [ 0.  0.  1.]]\n"
     ]
    }
   ],
   "source": [
    "#1. Premier élément de symétrie :\n",
    "symmetrie1 = SymmOp.from_xyz_string('-x, -y, z')\n",
    "matrice1  = symmetrie1.rotation_matrix\n",
    "\n",
    "print(\"Cette symmétrie est un plan miroir d'axe z. Avec la matrice de l'opération de symétrie associée:\\n\")\n",
    "print(matrice1)"
   ]
  },
  {
   "cell_type": "code",
   "execution_count": 17,
   "id": "31eb5844",
   "metadata": {
    "scrolled": true
   },
   "outputs": [
    {
     "data": {
      "application/vnd.jupyter.widget-view+json": {
       "model_id": "450c12d366ee4e698423da3049b5f48e",
       "version_major": 2,
       "version_minor": 0
      },
      "text/plain": [
       "JsmolView(layout=Layout(align_self='stretch', height='400px'))"
      ]
     },
     "metadata": {},
     "output_type": "display_data"
    }
   ],
   "source": [
    "view = quick_view(structure) \n",
    "display(view)\n",
    "view.script('draw symop 3')"
   ]
  },
  {
   "cell_type": "code",
   "execution_count": 18,
   "id": "d1306331",
   "metadata": {},
   "outputs": [],
   "source": [
    "#2. Deuxième élément de symétrie :"
   ]
  },
  {
   "cell_type": "code",
   "execution_count": 20,
   "id": "396f6e80",
   "metadata": {},
   "outputs": [
    {
     "name": "stdout",
     "output_type": "stream",
     "text": [
      "Cette symmétrie renvoie les coordonnées d'axe x sur l'axe z.\n",
      "Avec la matrice de l'opération de symétrie associée:\n",
      "\n",
      "[[0. 0. 1.]\n",
      " [0. 1. 0.]\n",
      " [1. 0. 0.]]\n"
     ]
    }
   ],
   "source": [
    "symmetrie2 = SymmOp.from_xyz_string('z, y, x')\n",
    "matrice2  = symmetrie2.rotation_matrix\n",
    "\n",
    "print(\"Cette symmétrie renvoie les coordonnées d'axe x sur l'axe z.\")\n",
    "print(\"Avec la matrice de l'opération de symétrie associée:\\n\")\n",
    "print(matrice2)"
   ]
  },
  {
   "cell_type": "code",
   "execution_count": 21,
   "id": "9f7bd6b4",
   "metadata": {},
   "outputs": [
    {
     "data": {
      "application/vnd.jupyter.widget-view+json": {
       "model_id": "afad058f6a5f4c439ecdab37f5c09953",
       "version_major": 2,
       "version_minor": 0
      },
      "text/plain": [
       "JsmolView(layout=Layout(align_self='stretch', height='400px'))"
      ]
     },
     "metadata": {},
     "output_type": "display_data"
    }
   ],
   "source": [
    "view = quick_view(structure) ; display(view)\n",
    "view.script('draw symop 14')"
   ]
  },
  {
   "cell_type": "code",
   "execution_count": null,
   "id": "621f263c",
   "metadata": {},
   "outputs": [],
   "source": [
    "#3. Troisième élément de symétrie :"
   ]
  },
  {
   "cell_type": "code",
   "execution_count": 22,
   "id": "693fdf76",
   "metadata": {},
   "outputs": [
    {
     "name": "stdout",
     "output_type": "stream",
     "text": [
      "Cette symmétrie effectue une rotation autour de la droite [1 1 1].\n",
      "On observe également une translation de 0.5 sur les axes y et z.\n",
      "La matrice de l'opération de symétrie associée est donnée par :\n",
      "\n",
      "[[0. 1. 0.]\n",
      " [0. 0. 1.]\n",
      " [1. 0. 0.]]\n"
     ]
    }
   ],
   "source": [
    "symmetry3 = SymmOp.from_xyz_string('y, z+1/2, x+1/2')\n",
    "matrice3  = symmetry3.rotation_matrix\n",
    "\n",
    "print(\"Cette symmétrie effectue une rotation autour de la droite [1 1 1].\")\n",
    "print(\"On observe également une translation de 0.5 sur les axes y et z.\")\n",
    "print(\"La matrice de l'opération de symétrie associée est donnée par :\\n\")\n",
    "print(matrice3)"
   ]
  },
  {
   "cell_type": "code",
   "execution_count": 24,
   "id": "6844c0a1",
   "metadata": {},
   "outputs": [
    {
     "data": {
      "application/vnd.jupyter.widget-view+json": {
       "model_id": "0c782a0c4f6c4f2ca4131d18fed2b633",
       "version_major": 2,
       "version_minor": 0
      },
      "text/plain": [
       "JsmolView(layout=Layout(align_self='stretch', height='400px'))"
      ]
     },
     "metadata": {},
     "output_type": "display_data"
    }
   ],
   "source": [
    "view = quick_view(structure) ; display(view)\n",
    "view.script('draw symop 7')"
   ]
  },
  {
   "cell_type": "code",
   "execution_count": null,
   "id": "098df0b7",
   "metadata": {},
   "outputs": [],
   "source": []
  }
 ],
 "metadata": {
  "kernelspec": {
   "display_name": "Python 3",
   "language": "python",
   "name": "python3"
  },
  "language_info": {
   "codemirror_mode": {
    "name": "ipython",
    "version": 3
   },
   "file_extension": ".py",
   "mimetype": "text/x-python",
   "name": "python",
   "nbconvert_exporter": "python",
   "pygments_lexer": "ipython3",
   "version": "3.6.8"
  }
 },
 "nbformat": 4,
 "nbformat_minor": 5
}
