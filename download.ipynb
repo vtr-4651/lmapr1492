{
 "cells": [
  {
   "cell_type": "code",
   "execution_count": 7,
   "id": "694a2a04",
   "metadata": {},
   "outputs": [],
   "source": [
    "from pymatgen.ext.matproj import MPRester\n",
    "from pymatgen.io.cif import CifWriter\n",
    "from pymatgen.symmetry.analyzer import SpacegroupAnalyzer\n",
    "\n",
    "\n",
    "\n",
    "with MPRester(\"2HJyrqCBxbcTKw7d\") as m:\n",
    "    id = \"mp-30459\"\n",
    "    struct = m.get_structure_by_material_id(id)\n",
    "    symetrique = SpacegroupAnalyzer(struct).get_symmetrized_structure()  \n",
    "    w = CifWriter(struct)\n",
    "    w.write_file('81901900.cif')"
   ]
  },
  {
   "cell_type": "code",
   "execution_count": null,
   "id": "6e987fcb",
   "metadata": {},
   "outputs": [],
   "source": []
  },
  {
   "cell_type": "code",
   "execution_count": null,
   "id": "5fce2ea1",
   "metadata": {},
   "outputs": [],
   "source": []
  }
 ],
 "metadata": {
  "kernelspec": {
   "display_name": "Python 3",
   "language": "python",
   "name": "python3"
  },
  "language_info": {
   "codemirror_mode": {
    "name": "ipython",
    "version": 3
   },
   "file_extension": ".py",
   "mimetype": "text/x-python",
   "name": "python",
   "nbconvert_exporter": "python",
   "pygments_lexer": "ipython3",
   "version": "3.6.8"
  }
 },
 "nbformat": 4,
 "nbformat_minor": 5
}
